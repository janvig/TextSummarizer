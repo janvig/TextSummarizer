{
  "nbformat": 4,
  "nbformat_minor": 0,
  "metadata": {
    "kernelspec": {
      "display_name": "Python 3",
      "language": "python",
      "name": "python3"
    },
    "language_info": {
      "codemirror_mode": {
        "name": "ipython",
        "version": 3
      },
      "file_extension": ".py",
      "mimetype": "text/x-python",
      "name": "python",
      "nbconvert_exporter": "python",
      "pygments_lexer": "ipython3",
      "version": "3.6.4"
    },
    "colab": {
      "name": "27_TextSummarizer.ipynb",
      "provenance": [],
      "collapsed_sections": [],
      "toc_visible": true
    }
  },
  "cells": [
    {
      "cell_type": "markdown",
      "metadata": {
        "id": "UB433Ov6g3dr",
        "colab_type": "text"
      },
      "source": [
        "# Text Summarization"
      ]
    },
    {
      "cell_type": "markdown",
      "metadata": {
        "id": "3UeZtl-9PGhM",
        "colab_type": "text"
      },
      "source": [
        "#### Importing libraries/modules"
      ]
    },
    {
      "cell_type": "code",
      "metadata": {
        "id": "8J-E7D0Mg3dv",
        "colab_type": "code",
        "colab": {}
      },
      "source": [
        "import os\n",
        "import re\n",
        "import string\n",
        "import numpy as np\n",
        "import matplotlib.pyplot as plt\n",
        "from nltk import pos_tag\n",
        "from nltk.tokenize import sent_tokenize, word_tokenize\n",
        "from nltk.stem.wordnet import WordNetLemmatizer\n",
        "from nltk.corpus.reader.wordnet import NOUN, VERB, ADJ, ADV\n",
        "from nltk.corpus import brown, stopwords\n",
        "from nltk.cluster.util import cosine_distance\n",
        "from operator import itemgetter\n",
        "%matplotlib inline"
      ],
      "execution_count": 0,
      "outputs": []
    },
    {
      "cell_type": "code",
      "metadata": {
        "id": "o-l06sdlhdNO",
        "colab_type": "code",
        "outputId": "5de9266f-1bcc-4d5c-bd7e-ded296bd0196",
        "colab": {
          "base_uri": "https://localhost:8080/",
          "height": 238
        }
      },
      "source": [
        "import nltk\n",
        "nltk.download('brown')\n",
        "nltk.download('stopwords')\n",
        "nltk.download('punkt')\n",
        "nltk.download('averaged_perceptron_tagger')\n",
        "nltk.download('wordnet')"
      ],
      "execution_count": 0,
      "outputs": [
        {
          "output_type": "stream",
          "text": [
            "[nltk_data] Downloading package brown to /root/nltk_data...\n",
            "[nltk_data]   Package brown is already up-to-date!\n",
            "[nltk_data] Downloading package stopwords to /root/nltk_data...\n",
            "[nltk_data]   Package stopwords is already up-to-date!\n",
            "[nltk_data] Downloading package punkt to /root/nltk_data...\n",
            "[nltk_data]   Package punkt is already up-to-date!\n",
            "[nltk_data] Downloading package averaged_perceptron_tagger to\n",
            "[nltk_data]     /root/nltk_data...\n",
            "[nltk_data]   Package averaged_perceptron_tagger is already up-to-\n",
            "[nltk_data]       date!\n",
            "[nltk_data] Downloading package wordnet to /root/nltk_data...\n",
            "[nltk_data]   Package wordnet is already up-to-date!\n"
          ],
          "name": "stdout"
        },
        {
          "output_type": "execute_result",
          "data": {
            "text/plain": [
              "True"
            ]
          },
          "metadata": {
            "tags": []
          },
          "execution_count": 96
        }
      ]
    },
    {
      "cell_type": "markdown",
      "metadata": {
        "id": "NcSdjRmf8ZLw",
        "colab_type": "text"
      },
      "source": [
        "### Text Cleaner Class"
      ]
    },
    {
      "cell_type": "code",
      "metadata": {
        "id": "PiLfPEk7g3ed",
        "colab_type": "code",
        "colab": {}
      },
      "source": [
        "class TextCleaner():\n",
        "    \n",
        "    def __init__(self):\n",
        "        self.stop_words = set(stopwords.words(\"english\"))\n",
        "        self.punctuations = set(string.punctuation)\n",
        "        self.pos_tags = {\n",
        "                NOUN: ['NN', 'NNS', 'NNP', 'NNPS', 'PRP', 'PRP$', 'WP', 'WP$'],\n",
        "                VERB: ['VB', 'VBD', 'VBG', 'VBN', 'VBP', 'VBZ'],\n",
        "                ADJ: ['JJ', 'JJR', 'JJS'],\n",
        "                ADV: ['RB', 'RBR', 'RBS', 'WRB']\n",
        "        }\n",
        "\n",
        "\n",
        "    def _remove_stop_words(self, words):\n",
        "        return [word for word in words if word not in self.stop_words]\n",
        "     \n",
        "    \n",
        "    def _remove_regex(self):\n",
        "        self.input_sent = \" \".join([w.lower() for w in self.input_sent])\n",
        "        self.input_sent = re.sub(r\"i'm\", \"i am\", self.input_sent)\n",
        "        self.input_sent = re.sub(r\"he's\", \"he is\", self.input_sent)\n",
        "        self.input_sent = re.sub(r\"she's\", \"she is\", self.input_sent)\n",
        "        self.input_sent = re.sub(r\"that's\", \"that is\", self.input_sent)\n",
        "        self.input_sent = re.sub(r\"what's\", \"what is\", self.input_sent)\n",
        "        self.input_sent = re.sub(r\"where's\", \"where is\", self.input_sent)\n",
        "        self.input_sent = re.sub(r\"\\'ll\", \" will\", self.input_sent)\n",
        "        self.input_sent = re.sub(r\"\\'ve\", \" have\", self.input_sent)\n",
        "        self.input_sent = re.sub(r\"\\'re\", \" are\", self.input_sent)\n",
        "        self.input_sent = re.sub(r\"\\'d\", \" would\", self.input_sent)\n",
        "        self.input_sent = re.sub(r\"won't\", \"will not\", self.input_sent)\n",
        "        self.input_sent = re.sub(r\"can't\", \"cannot\", self.input_sent)\n",
        "        self.input_sent = re.sub(r\"don't\", \"do not\", self.input_sent)\n",
        "        patterns = re.finditer(\"#[\\w]*\", self.input_sent)\n",
        "        for pattern in patterns:\n",
        "            self.input_sent = re.sub(pattern.group().strip(), \"\", self.input_sent)\n",
        "        self.input_sent = \"\".join(ch for ch in self.input_sent if ch not in self.punctuations)\n",
        "    \n",
        "    \n",
        "    def _tokenize(self):\n",
        "        return word_tokenize(self.input_sent)\n",
        "    \n",
        "    \n",
        "    def _process_content_for_pos(self, words):\n",
        "        tagged_words = pos_tag(words)\n",
        "        pos_words = []\n",
        "        for word in tagged_words:\n",
        "            flag = False\n",
        "            for key, value in self.pos_tags.items():\n",
        "                if word[1] in value:\n",
        "                    pos_words.append((word[0], key))\n",
        "                    flag = True\n",
        "                    break\n",
        "            if not flag:\n",
        "                pos_words.append((word[0], NOUN))\n",
        "        return pos_words\n",
        "       \n",
        "                 \n",
        "    def _remove_noise(self):\n",
        "        self._remove_regex()\n",
        "        words = self._tokenize()\n",
        "        noise_free_words = self._remove_stop_words(words)\n",
        "        return noise_free_words\n",
        "    \n",
        "    \n",
        "    def _normalize_text(self, words):\n",
        "        lem = WordNetLemmatizer()\n",
        "        pos_words = self._process_content_for_pos(words)\n",
        "        normalized_words = [lem.lemmatize(w, pos=p) for w, p in pos_words]\n",
        "        return normalized_words\n",
        "    \n",
        "    \n",
        "    def clean_up(self, input_sent):\n",
        "        self.input_sent = input_sent\n",
        "        cleaned_words = self._remove_noise()\n",
        "        cleaned_words = self._normalize_text(cleaned_words)\n",
        "        return cleaned_words"
      ],
      "execution_count": 0,
      "outputs": []
    },
    {
      "cell_type": "markdown",
      "metadata": {
        "id": "76dpgrYNg3ex",
        "colab_type": "text"
      },
      "source": [
        "### Cosine similarity among sentences"
      ]
    },
    {
      "cell_type": "code",
      "metadata": {
        "id": "601LDiavg3ez",
        "colab_type": "code",
        "colab": {}
      },
      "source": [
        "def sentence_similarity(sent1, sent2):\n",
        "    text_cleaner = TextCleaner()\n",
        "  \n",
        "    sent1 = text_cleaner.clean_up(sent1)\n",
        "    sent2 = text_cleaner.clean_up(sent2)\n",
        "    \n",
        "    all_words = list(set(sent1 + sent2))\n",
        "    \n",
        "    vector1 = [0] * len(all_words)\n",
        "    vector2 = [0] * len(all_words)\n",
        "    \n",
        "    for w in sent1:\n",
        "        vector1[all_words.index(w)] += 1\n",
        "    \n",
        "    for w in sent2:\n",
        "        vector2[all_words.index(w)] += 1\n",
        "    \n",
        "    return 1 - cosine_distance(vector1, vector2)"
      ],
      "execution_count": 0,
      "outputs": []
    },
    {
      "cell_type": "markdown",
      "metadata": {
        "id": "nCRr_ElOg3e9",
        "colab_type": "text"
      },
      "source": [
        "### Similarity Adjacency Matrix for PageRank"
      ]
    },
    {
      "cell_type": "code",
      "metadata": {
        "id": "-uXzqySyg3e_",
        "colab_type": "code",
        "colab": {}
      },
      "source": [
        "def build_similarity_matrix(sentences):\n",
        "    S = np.zeros((len(sentences), len(sentences)))\n",
        "    for i in range(len(sentences)):\n",
        "        for j in range(i + 1, len(sentences)):\n",
        "            if i == j:\n",
        "                continue\n",
        "            else:\n",
        "                S[i][j] = sentence_similarity(sentences[i], sentences[j])\n",
        "                S[j][i] = S[i][j]   \n",
        "    for i in range(len(S)):\n",
        "        S[i] /= S[i].sum()\n",
        "    return S"
      ],
      "execution_count": 0,
      "outputs": []
    },
    {
      "cell_type": "markdown",
      "metadata": {
        "id": "TmYxpYihg3en",
        "colab_type": "text"
      },
      "source": [
        "## PageRank Algorithm"
      ]
    },
    {
      "cell_type": "code",
      "metadata": {
        "id": "PVJ2VAU9g3eo",
        "colab_type": "code",
        "colab": {}
      },
      "source": [
        "def pagerank(M, eps=1.0e-4, d=0.85):\n",
        "    n = len(M)\n",
        "    probs = np.ones(n) / n\n",
        "    for i in range(100):\n",
        "        new_p = np.ones(n) * (1 - d) / n + d * M.T.dot(probs)\n",
        "        delta = abs(new_p - probs).sum()\n",
        "        if delta <= eps:\n",
        "            break\n",
        "        probs = new_p\n",
        "    return new_p   "
      ],
      "execution_count": 0,
      "outputs": []
    },
    {
      "cell_type": "markdown",
      "metadata": {
        "id": "VxQBXLBGQY8t",
        "colab_type": "text"
      },
      "source": [
        "#### Preprocessing of data"
      ]
    },
    {
      "cell_type": "code",
      "metadata": {
        "id": "Gkj0-lSiOL82",
        "colab_type": "code",
        "colab": {}
      },
      "source": [
        "def preprocess(file_content):\n",
        "  sents_in_content = sent_tokenize(file_content)\n",
        "  sents = []\n",
        "  for sent in sents_in_content:\n",
        "    sent = sent.split(\"\\n\\n\")\n",
        "    for s in sent:\n",
        "      if s != \"\":\n",
        "        sents.append(s)\n",
        "  sentences = []\n",
        "  for sent in sents:\n",
        "    sentences.append(word_tokenize(sent))\n",
        "  return sentences"
      ],
      "execution_count": 0,
      "outputs": []
    },
    {
      "cell_type": "markdown",
      "metadata": {
        "id": "fbHrY91RQe1z",
        "colab_type": "text"
      },
      "source": [
        "#### Summarizing based on TextRank and PageRank algorithms"
      ]
    },
    {
      "cell_type": "code",
      "metadata": {
        "id": "2VscROFHOk6y",
        "colab_type": "code",
        "colab": {}
      },
      "source": [
        "def summarize(sentences, SUMMARY_SIZE):\n",
        "  S = build_similarity_matrix(sentences)\n",
        "  sentence_ranks = pagerank(S)\n",
        "  \n",
        "  # If summary size not entered\n",
        "  if SUMMARY_SIZE == 0:\n",
        "    average_rank = np.average(sentence_ranks)\n",
        "    above_average_ranks = 0\n",
        "    for rank in sentence_ranks:\n",
        "      if rank > 1.2 * average_rank:\n",
        "        above_average_ranks+=1\n",
        "    if len(sentences) / 5 > above_average_ranks:\n",
        "      SUMMARY_SIZE = len(sentences) / 5\n",
        "    else:\n",
        "      SUMMARY_SIZE = above_average_ranks\n",
        "\n",
        "  ranked_sentence_indexes = [item[0] for item in sorted(enumerate(sentence_ranks), key=lambda item: -item[1])]\n",
        "  selected_sentences = sorted(ranked_sentence_indexes[:SUMMARY_SIZE])\n",
        "  summary = itemgetter(*selected_sentences)(sentences)\n",
        "  return summary"
      ],
      "execution_count": 0,
      "outputs": []
    },
    {
      "cell_type": "markdown",
      "metadata": {
        "id": "EEf6Om4-a1u-",
        "colab_type": "text"
      },
      "source": [
        "#### Generate Summary"
      ]
    },
    {
      "cell_type": "code",
      "metadata": {
        "id": "V9oOFaCmO4Up",
        "colab_type": "code",
        "colab": {}
      },
      "source": [
        "def process_summary(summary):\n",
        "  my_summary = \"\"\n",
        "  for sentence in summary:\n",
        "    for word in sentence:\n",
        "      if word != \"\":\n",
        "        if word == \".\" or word == \",\" or word == \"'s\" or word == \"$\" or word == \"%\":\n",
        "          my_summary = my_summary[:-1]\n",
        "        my_summary = my_summary + word + \" \"\n",
        "  return my_summary"
      ],
      "execution_count": 0,
      "outputs": []
    },
    {
      "cell_type": "markdown",
      "metadata": {
        "id": "1W19Z5MZlHPq",
        "colab_type": "text"
      },
      "source": [
        "### Input article"
      ]
    },
    {
      "cell_type": "code",
      "metadata": {
        "id": "Lb_FAj5HchuE",
        "colab_type": "code",
        "outputId": "f7e2cc17-57eb-473f-c2b1-4c5c1a81d29f",
        "colab": {
          "base_uri": "https://localhost:8080/",
          "height": 139
        }
      },
      "source": [
        "# test_string = input()\n",
        "choice = int(input(\"Choice of summary: \\n1) General summary \\n2) Custom length summary \\n\"))\n",
        "if choice == 1:\n",
        "  SUMMARY_SIZE = 0\n",
        "elif choice == 2:\n",
        "  SUMMARY_SIZE = int(input(\"Enter summary size: \"))\n",
        "else:\n",
        "  print(\"Invalid choice\")\n",
        "\n",
        "sentences = preprocess(content)\n",
        "# sentences = brown.sents('ca01')\n",
        "summary = summarize(sentences, SUMMARY_SIZE)\n",
        "my_summary = process_summary(summary)\n",
        "print(my_summary)"
      ],
      "execution_count": 0,
      "outputs": [
        {
          "output_type": "stream",
          "text": [
            "Choice of summary: \n",
            "1) General summary \n",
            "2) Custom length summary \n",
            "2\n",
            "Enter summary size: 7\n",
            "The Fulton County Grand Jury said Friday an investigation of Atlanta's recent primary election produced `` no evidence '' that any irregularities took place. The jury further said in term-end presentments that the City Executive Committee, which had over-all charge of the election, `` deserves the praise and thanks of the City of Atlanta '' for the manner in which the election was conducted. `` Only a relative handful of such reports was received '', the jury said, `` considering the widespread interest in the election, the number of voters and the size of this city ''. The grand jury commented on a number of other topics, among them the Atlanta and Fulton County purchasing departments which it said `` are well operated and follow generally accepted practices which inure to the best interest of both governments ''. `` This is one of the major items in the Fulton County general assistance program '', the jury said, but the State Welfare Department `` has seen fit to distribute these funds through the welfare departments of all the counties in the state with the exception of Fulton County, which receives none of this money. Nevertheless, `` we feel that in the future Fulton County should receive some portion of these available funds '', the jurors said. The largest hurdle the Republicans would have to face is a state law which says that before making a first race, one of two alternative courses must be taken : 1 \n"
          ],
          "name": "stdout"
        }
      ]
    },
    {
      "cell_type": "code",
      "metadata": {
        "id": "x5SsHiMIg3fH",
        "colab_type": "code",
        "colab": {}
      },
      "source": [
        "S = build_similarity_matrix(sentences)"
      ],
      "execution_count": 0,
      "outputs": []
    },
    {
      "cell_type": "code",
      "metadata": {
        "id": "hX78Ofnkg3fP",
        "colab_type": "code",
        "outputId": "68c31c64-03a9-4715-bec5-3fc90b11d373",
        "colab": {
          "base_uri": "https://localhost:8080/",
          "height": 238
        }
      },
      "source": [
        "S"
      ],
      "execution_count": 0,
      "outputs": [
        {
          "output_type": "execute_result",
          "data": {
            "text/plain": [
              "array([[0.        , 0.03809933, 0.03196713, ..., 0.01191345, 0.01459093,\n",
              "        0.        ],\n",
              "       [0.04793482, 0.        , 0.01714968, ..., 0.01278262, 0.01565545,\n",
              "        0.        ],\n",
              "       [0.07569435, 0.03227618, 0.        , ..., 0.        , 0.        ,\n",
              "        0.        ],\n",
              "       ...,\n",
              "       [0.02576081, 0.02196889, 0.        , ..., 0.        , 0.08413444,\n",
              "        0.        ],\n",
              "       [0.03354197, 0.02860469, 0.        , ..., 0.08944524, 0.        ,\n",
              "        0.        ],\n",
              "       [0.        , 0.        , 0.        , ..., 0.        , 0.        ,\n",
              "        0.        ]])"
            ]
          },
          "metadata": {
            "tags": []
          },
          "execution_count": 117
        }
      ]
    },
    {
      "cell_type": "code",
      "metadata": {
        "id": "1RmfyzO-g3fb",
        "colab_type": "code",
        "colab": {}
      },
      "source": [
        "sentence_ranks = pagerank(S)"
      ],
      "execution_count": 0,
      "outputs": []
    },
    {
      "cell_type": "markdown",
      "metadata": {
        "id": "WHj_Y_THg3fk",
        "colab_type": "text"
      },
      "source": [
        "**Sentences ranked according to their importance**"
      ]
    },
    {
      "cell_type": "code",
      "metadata": {
        "id": "_zLwJAPzg3fm",
        "colab_type": "code",
        "outputId": "7c17b14e-85c8-4ace-88a7-24d27f0aea85",
        "colab": {
          "base_uri": "https://localhost:8080/",
          "height": 357
        }
      },
      "source": [
        "sentence_ranks"
      ],
      "execution_count": 0,
      "outputs": [
        {
          "output_type": "execute_result",
          "data": {
            "text/plain": [
              "array([0.0234675 , 0.0187665 , 0.01123576, 0.01796357, 0.01644115,\n",
              "       0.00846616, 0.01785976, 0.00216536, 0.01290006, 0.01462607,\n",
              "       0.00543299, 0.01058538, 0.0066213 , 0.01317727, 0.02275843,\n",
              "       0.01325513, 0.01805431, 0.00624031, 0.00954899, 0.00265891,\n",
              "       0.01534067, 0.01430723, 0.01044828, 0.00642507, 0.00498534,\n",
              "       0.01078784, 0.00911497, 0.00516437, 0.01049278, 0.01266148,\n",
              "       0.01151728, 0.00534986, 0.00529231, 0.00266882, 0.01216652,\n",
              "       0.00934046, 0.00409488, 0.01335719, 0.00465669, 0.00869262,\n",
              "       0.00770543, 0.00903736, 0.00670723, 0.01026237, 0.01186828,\n",
              "       0.01089543, 0.00584541, 0.01092386, 0.00698091, 0.00923407,\n",
              "       0.016825  , 0.01488211, 0.0070233 , 0.01099078, 0.00457551,\n",
              "       0.00265688, 0.00641047, 0.00982585, 0.00844966, 0.00710591,\n",
              "       0.00937989, 0.00634396, 0.01179258, 0.0094353 , 0.01636128,\n",
              "       0.00659305, 0.01444638, 0.01100428, 0.01211079, 0.01313992,\n",
              "       0.01311141, 0.01551948, 0.00834415, 0.00715822, 0.00902277,\n",
              "       0.01097722, 0.01326894, 0.01482914, 0.00892202, 0.00735756,\n",
              "       0.01360488, 0.0025359 , 0.01279124, 0.00833673, 0.01064978,\n",
              "       0.0048879 , 0.01597407, 0.00343352, 0.01020408, 0.00921204,\n",
              "       0.00314433, 0.00776682, 0.01208592, 0.0162118 , 0.01007272,\n",
              "       0.0117065 , 0.01076396, 0.01020408])"
            ]
          },
          "metadata": {
            "tags": []
          },
          "execution_count": 119
        }
      ]
    },
    {
      "cell_type": "code",
      "metadata": {
        "id": "he-zezOLg3fu",
        "colab_type": "code",
        "colab": {}
      },
      "source": [
        "ranked_sentence_indexes = [item[0] for item in sorted(enumerate(sentence_ranks), key=lambda item: -item[1])]"
      ],
      "execution_count": 0,
      "outputs": []
    },
    {
      "cell_type": "code",
      "metadata": {
        "id": "ma0vO5Nfg3f2",
        "colab_type": "code",
        "outputId": "62166dec-03bb-48c4-c1d3-de26cba6d6f1",
        "colab": {
          "base_uri": "https://localhost:8080/",
          "height": 1000
        }
      },
      "source": [
        "ranked_sentence_indexes"
      ],
      "execution_count": 0,
      "outputs": [
        {
          "output_type": "execute_result",
          "data": {
            "text/plain": [
              "[0,\n",
              " 14,\n",
              " 1,\n",
              " 16,\n",
              " 3,\n",
              " 6,\n",
              " 50,\n",
              " 4,\n",
              " 64,\n",
              " 93,\n",
              " 86,\n",
              " 71,\n",
              " 20,\n",
              " 51,\n",
              " 77,\n",
              " 9,\n",
              " 66,\n",
              " 21,\n",
              " 80,\n",
              " 37,\n",
              " 76,\n",
              " 15,\n",
              " 13,\n",
              " 69,\n",
              " 70,\n",
              " 8,\n",
              " 82,\n",
              " 29,\n",
              " 34,\n",
              " 68,\n",
              " 92,\n",
              " 44,\n",
              " 62,\n",
              " 95,\n",
              " 30,\n",
              " 2,\n",
              " 67,\n",
              " 53,\n",
              " 75,\n",
              " 47,\n",
              " 45,\n",
              " 25,\n",
              " 96,\n",
              " 84,\n",
              " 11,\n",
              " 28,\n",
              " 22,\n",
              " 43,\n",
              " 88,\n",
              " 97,\n",
              " 94,\n",
              " 57,\n",
              " 18,\n",
              " 63,\n",
              " 60,\n",
              " 35,\n",
              " 49,\n",
              " 89,\n",
              " 26,\n",
              " 41,\n",
              " 74,\n",
              " 78,\n",
              " 39,\n",
              " 5,\n",
              " 58,\n",
              " 72,\n",
              " 83,\n",
              " 91,\n",
              " 40,\n",
              " 79,\n",
              " 73,\n",
              " 59,\n",
              " 52,\n",
              " 48,\n",
              " 42,\n",
              " 12,\n",
              " 65,\n",
              " 23,\n",
              " 56,\n",
              " 61,\n",
              " 17,\n",
              " 46,\n",
              " 10,\n",
              " 31,\n",
              " 32,\n",
              " 27,\n",
              " 24,\n",
              " 85,\n",
              " 38,\n",
              " 54,\n",
              " 36,\n",
              " 87,\n",
              " 90,\n",
              " 33,\n",
              " 19,\n",
              " 55,\n",
              " 81,\n",
              " 7]"
            ]
          },
          "metadata": {
            "tags": []
          },
          "execution_count": 121
        }
      ]
    },
    {
      "cell_type": "code",
      "metadata": {
        "id": "bz8B7p4Jg3f_",
        "colab_type": "code",
        "outputId": "0088cf5c-ba0c-4532-9fe4-a78b9277fc20",
        "colab": {
          "base_uri": "https://localhost:8080/",
          "height": 279
        }
      },
      "source": [
        "plt.bar([item[0] for item in sorted(enumerate(sentence_ranks))], sentence_ranks.T[0])\n",
        "plt.xlabel(\"Sentence No.\")\n",
        "plt.ylabel(\"Importance\")\n",
        "plt.show()"
      ],
      "execution_count": 0,
      "outputs": [
        {
          "output_type": "display_data",
          "data": {
            "image/png": "[encoded data removed]",
            "text/plain": [
              "<Figure size 432x288 with 1 Axes>"
            ]
          },
          "metadata": {
            "tags": [],
            "needs_background": "light"
          }
        }
      ]
    },
    {
      "cell_type": "code",
      "metadata": {
        "id": "cwF2gX-jg3gH",
        "colab_type": "code",
        "outputId": "3c33f4a1-4ffb-43eb-efa4-5792b5ce5e5f",
        "colab": {
          "base_uri": "https://localhost:8080/",
          "height": 279
        }
      },
      "source": [
        "plt.plot([item[0] for item in sorted(enumerate(sentence_ranks))], sentence_ranks)\n",
        "plt.xlabel(\"Sentence No.\")\n",
        "plt.ylabel(\"Importance\")\n",
        "plt.show()"
      ],
      "execution_count": 0,
      "outputs": [
        {
          "output_type": "display_data",
          "data": {
            "image/png": "[encoded data removed]",
            "text/plain": [
              "<Figure size 432x288 with 1 Axes>"
            ]
          },
          "metadata": {
            "tags": [],
            "needs_background": "light"
          }
        }
      ]
    },
    {
      "cell_type": "code",
      "metadata": {
        "id": "zccwf2H_g3gW",
        "colab_type": "code",
        "colab": {}
      },
      "source": [
        "selected_sentences = sorted(ranked_sentence_indexes[:SUMMARY_SIZE]) "
      ],
      "execution_count": 0,
      "outputs": []
    },
    {
      "cell_type": "code",
      "metadata": {
        "id": "sDxMkzjCg3ge",
        "colab_type": "code",
        "outputId": "fc48a593-c721-477c-b474-2f306b32145b",
        "colab": {
          "base_uri": "https://localhost:8080/",
          "height": 34
        }
      },
      "source": [
        "selected_sentences"
      ],
      "execution_count": 0,
      "outputs": [
        {
          "output_type": "execute_result",
          "data": {
            "text/plain": [
              "[0, 1, 3, 6, 14, 16, 50]"
            ]
          },
          "metadata": {
            "tags": []
          },
          "execution_count": 125
        }
      ]
    },
    {
      "cell_type": "code",
      "metadata": {
        "id": "96WVP1Ixg3gm",
        "colab_type": "code",
        "colab": {}
      },
      "source": [
        "summary = itemgetter(*selected_sentences)(sentences)"
      ],
      "execution_count": 0,
      "outputs": []
    },
    {
      "cell_type": "markdown",
      "metadata": {
        "id": "oDhO7Qw44ZFp",
        "colab_type": "text"
      },
      "source": [
        "#### Translation support"
      ]
    },
    {
      "cell_type": "code",
      "metadata": {
        "id": "INSw3V4mktcD",
        "colab_type": "code",
        "outputId": "3f863b68-d4ec-48e9-840b-108e5d074dde",
        "colab": {
          "base_uri": "https://localhost:8080/",
          "height": 275
        }
      },
      "source": [
        "pip install googletrans"
      ],
      "execution_count": 0,
      "outputs": [
        {
          "output_type": "stream",
          "text": [
            "Collecting googletrans\n",
            "  Downloading https://files.pythonhosted.org/packages/fd/f0/a22d41d3846d1f46a4f20086141e0428ccc9c6d644aacbfd30990cf46886/googletrans-2.4.0.tar.gz\n",
            "Requirement already satisfied: requests in /usr/local/lib/python3.6/dist-packages (from googletrans) (2.23.0)\n",
            "Requirement already satisfied: chardet<4,>=3.0.2 in /usr/local/lib/python3.6/dist-packages (from requests->googletrans) (3.0.4)\n",
            "Requirement already satisfied: urllib3!=1.25.0,!=1.25.1,<1.26,>=1.21.1 in /usr/local/lib/python3.6/dist-packages (from requests->googletrans) (1.24.3)\n",
            "Requirement already satisfied: certifi>=2017.4.17 in /usr/local/lib/python3.6/dist-packages (from requests->googletrans) (2020.4.5.1)\n",
            "Requirement already satisfied: idna<3,>=2.5 in /usr/local/lib/python3.6/dist-packages (from requests->googletrans) (2.9)\n",
            "Building wheels for collected packages: googletrans\n",
            "  Building wheel for googletrans (setup.py) ... \u001b[?25l\u001b[?25hdone\n",
            "  Created wheel for googletrans: filename=googletrans-2.4.0-cp36-none-any.whl size=15777 sha256=fb7f631d3e43ca517f720a0fdeb0c3d1bcb66843e96feef60b68c641524e108c\n",
            "  Stored in directory: /root/.cache/pip/wheels/50/d6/e7/a8efd5f2427d5eb258070048718fa56ee5ac57fd6f53505f95\n",
            "Successfully built googletrans\n",
            "Installing collected packages: googletrans\n",
            "Successfully installed googletrans-2.4.0\n"
          ],
          "name": "stdout"
        }
      ]
    },
    {
      "cell_type": "code",
      "metadata": {
        "id": "Nz7cpsGiixgb",
        "colab_type": "code",
        "outputId": "4a6b34c2-4ee0-4856-dac0-88ce39525b34",
        "colab": {
          "base_uri": "https://localhost:8080/",
          "height": 88
        }
      },
      "source": [
        "import googletrans\n",
        "\n",
        "print(\"What language is your article in?\")\n",
        "print(googletrans.LANGUAGES)\n",
        "source_language = input() # de"
      ],
      "execution_count": 0,
      "outputs": [
        {
          "output_type": "stream",
          "text": [
            "What language is your article in?\n",
            "{'af': 'afrikaans', 'sq': 'albanian', 'am': 'amharic', 'ar': 'arabic', 'hy': 'armenian', 'az': 'azerbaijani', 'eu': 'basque', 'be': 'belarusian', 'bn': 'bengali', 'bs': 'bosnian', 'bg': 'bulgarian', 'ca': 'catalan', 'ceb': 'cebuano', 'ny': 'chichewa', 'zh-cn': 'chinese (simplified)', 'zh-tw': 'chinese (traditional)', 'co': 'corsican', 'hr': 'croatian', 'cs': 'czech', 'da': 'danish', 'nl': 'dutch', 'en': 'english', 'eo': 'esperanto', 'et': 'estonian', 'tl': 'filipino', 'fi': 'finnish', 'fr': 'french', 'fy': 'frisian', 'gl': 'galician', 'ka': 'georgian', 'de': 'german', 'el': 'greek', 'gu': 'gujarati', 'ht': 'haitian creole', 'ha': 'hausa', 'haw': 'hawaiian', 'iw': 'hebrew', 'hi': 'hindi', 'hmn': 'hmong', 'hu': 'hungarian', 'is': 'icelandic', 'ig': 'igbo', 'id': 'indonesian', 'ga': 'irish', 'it': 'italian', 'ja': 'japanese', 'jw': 'javanese', 'kn': 'kannada', 'kk': 'kazakh', 'km': 'khmer', 'ko': 'korean', 'ku': 'kurdish (kurmanji)', 'ky': 'kyrgyz', 'lo': 'lao', 'la': 'latin', 'lv': 'latvian', 'lt': 'lithuanian', 'lb': 'luxembourgish', 'mk': 'macedonian', 'mg': 'malagasy', 'ms': 'malay', 'ml': 'malayalam', 'mt': 'maltese', 'mi': 'maori', 'mr': 'marathi', 'mn': 'mongolian', 'my': 'myanmar (burmese)', 'ne': 'nepali', 'no': 'norwegian', 'ps': 'pashto', 'fa': 'persian', 'pl': 'polish', 'pt': 'portuguese', 'pa': 'punjabi', 'ro': 'romanian', 'ru': 'russian', 'sm': 'samoan', 'gd': 'scots gaelic', 'sr': 'serbian', 'st': 'sesotho', 'sn': 'shona', 'sd': 'sindhi', 'si': 'sinhala', 'sk': 'slovak', 'sl': 'slovenian', 'so': 'somali', 'es': 'spanish', 'su': 'sundanese', 'sw': 'swahili', 'sv': 'swedish', 'tg': 'tajik', 'ta': 'tamil', 'te': 'telugu', 'th': 'thai', 'tr': 'turkish', 'uk': 'ukrainian', 'ur': 'urdu', 'uz': 'uzbek', 'vi': 'vietnamese', 'cy': 'welsh', 'xh': 'xhosa', 'yi': 'yiddish', 'yo': 'yoruba', 'zu': 'zulu', 'fil': 'Filipino', 'he': 'Hebrew'}\n",
            "de\n"
          ],
          "name": "stdout"
        }
      ]
    },
    {
      "cell_type": "code",
      "metadata": {
        "id": "7mldcwANkW4u",
        "colab_type": "code",
        "outputId": "57b7dfbe-5c05-49c9-f846-e69e81edb37b",
        "colab": {
          "base_uri": "https://localhost:8080/",
          "height": 88
        }
      },
      "source": [
        "from googletrans import Translator\n",
        "translator = Translator()\n",
        "\n",
        "test_string = input() # 'Die Kessiner waren ein elb­slawi­scher Stamm, der vom 10. bis zum 12. Jahr­hun­dert im öst­lichen Teil des heuti­gen Mecklen­burg an­sässig war. Sie waren ur­sprüng­lich ein Kern­stamm der Lutizen und zähl­ten ab den 1060er Jahren zum abodriti­schen Stammes­ver­band. Wahr­schein­lich ent­stand der Stamm um das Jahr 1000 als Ab­spal­tung von den Zirzi­panen. Anläss­lich ihrer ersten schrift­lichen Erwäh­nung als Chizzini zum Jahr 1057 werden die Kessi­ner als Mit­glied des Lutizen­bundes ge­nannt. Kurze Zeit später fügte der abodriti­sche Samt­herr­scher Gott­schalk die Kessiner gewalt­sam in den abodriti­schen Stammes­ver­band ein, dem sie trotz an­dauern­der Auto­nomie­bestre­bun­gen bis zu dessen Ein­gliede­rung in das Heilige Römi­sche Reich ange­hörten. Die For­schung befasst sich vor­rangig mit der Ein­gren­zung ihres Siedlungs­gebie­tes und der auf­fallend späten Stammesbildung.'\n",
        "content_in_english = translator.translate(test_string, src=source_language, dest='en')\n",
        "\n",
        "SUMMARY_SIZE = int(input(\"Enter summary size: \"))\n",
        "\n",
        "content = content_in_english.text\n",
        "sentences = preprocess(content)\n",
        "summary = summarize(sentences, SUMMARY_SIZE)\n",
        "english_summary = process_summary(summary)\n",
        "print(english_summary)\n",
        "\n",
        "source_language_summary = translator.translate(english_summary, src='en', dest=source_language)\n",
        "my_summary = source_language_summary.text\n",
        "print(my_summary)"
      ],
      "execution_count": 0,
      "outputs": [
        {
          "output_type": "stream",
          "text": [
            "Enter summary size: 6\n",
            "The Kessin were a elbslawischer strain which was located between the 10th and 12th century in the eastern part of today's Mecklenburg. They were originally a tribe of nuclear Lutizen and counted from the 1060s years to abodritischen tribal confederation. Probably the base by the year 1000 emerged as a splinter group from the Circipania. On the occasion of its first written mention as Chizzini the year 1057 the Kessin be named as a member of Lutizenbundes. A short time later, the abodritische Samtherrscher Gottschalk added the Kessin force in the tribal confederation abodritischen one, which they belonged despite ongoing autonomy until its incorporation into the Holy Roman Empire. The research is primarily concerned with the limitation of their settlement area and the striking late tribal education. \n",
            "Die Kessin waren ein elbslawischer Stamm, der zwischen dem 10. und 12. Jahrhundert im östlichen Teil des heutigen Mecklenburg befand. Sie waren ursprünglich ein Stamm von Kern Lutizen und zählten von den 1060er Jahren Stämmebund abodritischen. Wahrscheinlich ist die Basis für das Jahr 1000 entstand als Abspaltung von den Zirzipanen. Anlässlich seiner ersten schriftlichen Erwähnung als Chizzini das Jahr 1057 die Kessin als Mitglied der Lutizenbundes benannt werden. Kurze Zeit später, der abodritische Samtherrscher Gottschalk hinzugefügt, um die Kessin Kraft in dem Stämmebund abodritischen ein, die sie bis zu ihrer Einbindung in das Heiligen Römischen Reich trotz andauernder Autonomie gehörten. Die Forschung wird mit der Begrenzung ihres Siedlungsgebietes und der Schlag späten Stammes-Bildung in erster Linie betroffen.\n"
          ],
          "name": "stdout"
        }
      ]
    },
    {
      "cell_type": "markdown",
      "metadata": {
        "id": "qjsXL7wJ5_EZ",
        "colab_type": "text"
      },
      "source": [
        "#### Dataset"
      ]
    },
    {
      "cell_type": "code",
      "metadata": {
        "id": "VaKbE04mslmh",
        "colab_type": "code",
        "outputId": "8fed2d42-4a5b-45fe-fb89-cae6dabfbaf4",
        "colab": {
          "base_uri": "https://localhost:8080/",
          "height": 34
        }
      },
      "source": [
        "!mkdir -p Dataset\n",
        "%cd Dataset"
      ],
      "execution_count": 0,
      "outputs": [
        {
          "output_type": "stream",
          "text": [
            "/content/Dataset/Dataset\n"
          ],
          "name": "stdout"
        }
      ]
    },
    {
      "cell_type": "code",
      "metadata": {
        "id": "KdN74ETls1WO",
        "colab_type": "code",
        "outputId": "1e9365ce-3e1e-42ae-c75f-94cb4f9a82a0",
        "colab": {
          "base_uri": "https://localhost:8080/",
          "height": 224
        }
      },
      "source": [
        "# For CNN/DailyMail dataset\n",
        "!wget https://raw.githubusercontent.com/janvig/TextSummarizer/master/CNN_DailyMail.zip\n",
        "\n",
        "# For news article dataset\n",
        "# !wget https://raw.githubusercontent.com/janvig/TextSummarizer/master/NewsArticleDataset.zip"
      ],
      "execution_count": 0,
      "outputs": [
        {
          "output_type": "stream",
          "text": [
            "--2020-06-07 16:46:05--  https://raw.githubusercontent.com/janvig/TextSummarizer/master/CNN_DailyMail.zip\n",
            "Resolving raw.githubusercontent.com (raw.githubusercontent.com)... 151.101.0.133, 151.101.64.133, 151.101.128.133, ...\n",
            "Connecting to raw.githubusercontent.com (raw.githubusercontent.com)|151.101.0.133|:443... connected.\n",
            "HTTP request sent, awaiting response... 200 OK\n",
            "Length: 39443702 (38M) [application/zip]\n",
            "Saving to: ‘CNN_DailyMail.zip’\n",
            "\n",
            "\rCNN_DailyMail.zip     0%[                    ]       0  --.-KB/s               \rCNN_DailyMail.zip    17%[==>                 ]   6.61M  33.0MB/s               \rCNN_DailyMail.zip    86%[================>   ]  32.69M  81.6MB/s               \rCNN_DailyMail.zip   100%[===================>]  37.62M  89.4MB/s    in 0.4s    \n",
            "\n",
            "2020-06-07 16:46:06 (89.4 MB/s) - ‘CNN_DailyMail.zip’ saved [39443702/39443702]\n",
            "\n"
          ],
          "name": "stdout"
        }
      ]
    },
    {
      "cell_type": "code",
      "metadata": {
        "id": "kbOQH21VPqOD",
        "colab_type": "code",
        "colab": {}
      },
      "source": [
        "import zipfile\n",
        "\n",
        "# For CNN/DailyMail dataset\n",
        "zip_ref = zipfile.ZipFile(\"./CNN_DailyMail.zip\", 'r')\n",
        "\n",
        "# For news article dataset\n",
        "# zip_ref = zipfile.ZipFile(\"./NewsArticleDataset.zip\", 'r')\n",
        "\n",
        "zip_ref.extractall(\"./\")\n",
        "zip_ref.close()"
      ],
      "execution_count": 0,
      "outputs": []
    },
    {
      "cell_type": "markdown",
      "metadata": {
        "id": "LhtrHU3RS3Zj",
        "colab_type": "text"
      },
      "source": [
        "##### Fetching human summaries from dataset"
      ]
    },
    {
      "cell_type": "code",
      "metadata": {
        "id": "wHNwNKHKS1RN",
        "colab_type": "code",
        "colab": {}
      },
      "source": [
        "summaries = []\n",
        "labels = []\n",
        "\n",
        "# For CNN/DailyMail dataset\n",
        "directory = \"/content/Dataset/test_output/reference\"\n",
        "\n",
        "# For news article dataset \n",
        "# directory = \"/content/Dataset/Summary\"\n",
        "\n",
        "# files = os.listdir(directory)\n",
        "for i in range(1000):\n",
        "  f_name = f'{i:06}'\n",
        "  fName = f_name + \"_reference.txt\"\n",
        "  path = directory + \"/\" + fName\n",
        "  # path = directory + \"/\" + files[i]\n",
        "  f = open(path, \"r\")\n",
        "  content = f.read()\n",
        "  # If source language is not English\n",
        "  # summary_in_english = translator.translate(content, src=source_language, dest='en')\n",
        "  # content = summary_in_english.text\n",
        "  summaries.append(content)\n",
        "  labels.append(fName)\n",
        "  # labels.append(files[i])\n",
        "# summaries, labels"
      ],
      "execution_count": 0,
      "outputs": []
    },
    {
      "cell_type": "markdown",
      "metadata": {
        "id": "xts8_J9_PquR",
        "colab_type": "text"
      },
      "source": [
        "##### Fetching content (articles in dataset) -> Preprocessing data -> Summarizing"
      ]
    },
    {
      "cell_type": "code",
      "metadata": {
        "id": "cDEyhHr4lHNQ",
        "colab_type": "code",
        "outputId": "0ffd9eb2-932d-4251-a95f-1694b71546ab",
        "colab": {
          "base_uri": "https://localhost:8080/",
          "height": 445
        }
      },
      "source": [
        "my_summaries = []\n",
        "my_labels = []\n",
        "\n",
        "# For CNN/DailyMail dataset\n",
        "directory = \"/content/Dataset/test_output/articles\"\n",
        "\n",
        "# For news article dataset \n",
        "# directory = \"/content/Dataset/News article\"\n",
        "\n",
        "# files = os.listdir(directory)\n",
        "SUMMARY_SIZE = 5 \n",
        "for i in range(1000):\n",
        "  f_name = f'{i:06}'\n",
        "  fName = f_name + \"_article.txt\"\n",
        "  path = directory + \"/\" + fName\n",
        "  # path = directory + \"/\" + files[i]\n",
        "  if i % 50 == 0:\n",
        "    print(\"Processing : \", i )\n",
        "  f = open(path, \"r\")\n",
        "  content = f.read()\n",
        "  # If source language is not English\n",
        "  # content_in_english = translator.translate(content, src=source_language, dest='en')\n",
        "  # content = content_in_english.text\n",
        "  sentences = preprocess(content)\n",
        "  summary = summarize(sentences, SUMMARY_SIZE)\n",
        "  my_summary = process_summary(summary)\n",
        "  my_summaries.append(my_summary)\n",
        "  my_labels.append(fName)\n",
        "  # my_labels.append(files[i])\n",
        "# my_summaries, my_labels "
      ],
      "execution_count": 0,
      "outputs": [
        {
          "output_type": "stream",
          "text": [
            "Processing :  0\n"
          ],
          "name": "stdout"
        },
        {
          "output_type": "stream",
          "text": [
            "/usr/local/lib/python3.6/dist-packages/ipykernel_launcher.py:11: RuntimeWarning: invalid value encountered in true_divide\n",
            "  # This is added back by InteractiveShellApp.init_path()\n",
            "/usr/local/lib/python3.6/dist-packages/nltk/cluster/util.py:133: RuntimeWarning: invalid value encountered in true_divide\n",
            "  sqrt(numpy.dot(u, u)) * sqrt(numpy.dot(v, v))))\n"
          ],
          "name": "stderr"
        },
        {
          "output_type": "stream",
          "text": [
            "Processing :  50\n",
            "Processing :  100\n",
            "Processing :  150\n",
            "Processing :  200\n",
            "Processing :  250\n",
            "Processing :  300\n",
            "Processing :  350\n",
            "Processing :  400\n",
            "Processing :  450\n",
            "Processing :  500\n",
            "Processing :  550\n",
            "Processing :  600\n",
            "Processing :  650\n",
            "Processing :  700\n",
            "Processing :  750\n",
            "Processing :  800\n",
            "Processing :  850\n",
            "Processing :  900\n",
            "Processing :  950\n"
          ],
          "name": "stdout"
        }
      ]
    },
    {
      "cell_type": "markdown",
      "metadata": {
        "id": "Lkzmp77mRnIY",
        "colab_type": "text"
      },
      "source": [
        "##### Calculating ROUGE Score"
      ]
    },
    {
      "cell_type": "code",
      "metadata": {
        "id": "k5JJ8gDI3peg",
        "colab_type": "code",
        "outputId": "f2605b57-a95b-41f6-d141-3400cc91f743",
        "colab": {
          "base_uri": "https://localhost:8080/",
          "height": 51
        }
      },
      "source": [
        "!pip install rouge"
      ],
      "execution_count": 0,
      "outputs": [
        {
          "output_type": "stream",
          "text": [
            "Requirement already satisfied: rouge in /usr/local/lib/python3.6/dist-packages (1.0.0)\n",
            "Requirement already satisfied: six in /usr/local/lib/python3.6/dist-packages (from rouge) (1.12.0)\n"
          ],
          "name": "stdout"
        }
      ]
    },
    {
      "cell_type": "code",
      "metadata": {
        "id": "xGUKW2CtI1Br",
        "colab_type": "code",
        "colab": {}
      },
      "source": [
        "from rouge import Rouge\n",
        "rouge = Rouge()\n",
        "score = []\n",
        "generated = []\n",
        "given = []\n",
        "for i in range(len(my_summaries)):\n",
        "  index = [j for j, k in enumerate(labels) if k[:6] == my_labels[i][:6]] # for CNN/DailyMail\n",
        "  # index = [j for j, k in enumerate(labels) if k == my_labels[i]] # for news article dataset\n",
        "  l = index[0]\n",
        "  generated.append(my_summaries[i])\n",
        "  given.append(summaries[l])\n",
        "score = rouge.get_scores(generated, given, avg=True)"
      ],
      "execution_count": 0,
      "outputs": []
    },
    {
      "cell_type": "code",
      "metadata": {
        "id": "17jzlWhF7TTV",
        "colab_type": "code",
        "outputId": "4d4b1bfa-8305-43c5-dff3-39155d96e64d",
        "colab": {
          "base_uri": "https://localhost:8080/",
          "height": 170
        }
      },
      "source": [
        "score"
      ],
      "execution_count": 0,
      "outputs": [
        {
          "output_type": "execute_result",
          "data": {
            "text/plain": [
              "{'rouge-1': {'f': 0.22498811196778282,\n",
              "  'p': 0.15109942210603255,\n",
              "  'r': 0.49242175219580264},\n",
              " 'rouge-2': {'f': 0.08071283140491564,\n",
              "  'p': 0.05348298479200632,\n",
              "  'r': 0.18356406669792832},\n",
              " 'rouge-l': {'f': 0.23105316986042956,\n",
              "  'p': 0.1604382824285208,\n",
              "  'r': 0.44525571252429264}}"
            ]
          },
          "metadata": {
            "tags": []
          },
          "execution_count": 143
        }
      ]
    }
  ]
}